{
 "cells": [
  {
   "cell_type": "markdown",
   "metadata": {},
   "source": [
    "*DISCLAIMER: To query my dataset, I used [Google Cloud's BigQuery](https://cloud.google.com/bigquery/docs/introduction). Unforunately, I could not figure out how to create a notebook. So, in the interest of time, I ran the following SQL queries directly in their console and pasted their outputs below. I will definitely have this issue resolved by the final analysis.*"
   ]
  },
  {
   "cell_type": "markdown",
   "metadata": {},
   "source": [
    "**1. First Forty Rows**"
   ]
  },
  {
   "cell_type": "code",
   "execution_count": null,
   "metadata": {},
   "outputs": [],
   "source": [
    "'''SELECT *\n",
    "FROM `bigquery-public-data.chicago_taxi_trips.taxi_trips`\n",
    "LIMIT 40'''"
   ]
  },
  {
   "cell_type": "markdown",
   "metadata": {},
   "source": [
    "**2. Before January 1st, 2020**"
   ]
  },
  {
   "cell_type": "code",
   "execution_count": null,
   "metadata": {},
   "outputs": [],
   "source": [
    "'''SELECT COUNT(*)\n",
    "FROM `bigquery-public-data.chicago_taxi_trips.taxi_trips`'''"
   ]
  },
  {
   "cell_type": "markdown",
   "metadata": {},
   "source": [
    "result: 211655459"
   ]
  },
  {
   "cell_type": "code",
   "execution_count": null,
   "metadata": {},
   "outputs": [],
   "source": [
    "'''SELECT COUNT(*)\n",
    "FROM `bigquery-public-data.chicago_taxi_trips.taxi_trips`\n",
    "WHERE trip_start_timestamp < TIMESTAMP(\"2020-01-01\")'''"
   ]
  },
  {
   "cell_type": "markdown",
   "metadata": {},
   "source": [
    "result: 190941465"
   ]
  },
  {
   "cell_type": "code",
   "execution_count": 1,
   "metadata": {},
   "outputs": [
    {
     "data": {
      "text/plain": [
       "0.9021334290272192"
      ]
     },
     "execution_count": 1,
     "metadata": {},
     "output_type": "execute_result"
    }
   ],
   "source": [
    "190941465/211655459"
   ]
  },
  {
   "cell_type": "markdown",
   "metadata": {},
   "source": [
    "**3. Fare 0, Seconds and/or Miles 0**"
   ]
  },
  {
   "cell_type": "code",
   "execution_count": null,
   "metadata": {},
   "outputs": [],
   "source": [
    "'''WITH before_covid AS (\n",
    "  SELECT *\n",
    "  FROM `bigquery-public-data.chicago_taxi_trips.taxi_trips`\n",
    "  WHERE trip_start_timestamp < TIMESTAMP(\"2020-01-01\")\n",
    ")\n",
    "SELECT COUNT(*), AVG(trip_seconds)\n",
    "FROM before_covid\n",
    "WHERE ((trip_seconds = 0 OR trip_seconds IS NULL) \n",
    "OR (trip_miles = 0 OR trip_miles IS NULL))\n",
    "AND (fare = 0 OR fare IS NULL)'''"
   ]
  },
  {
   "cell_type": "markdown",
   "metadata": {},
   "source": [
    "result: 243551 | 3173.8807523455089"
   ]
  },
  {
   "cell_type": "code",
   "execution_count": null,
   "metadata": {},
   "outputs": [],
   "source": [
    "'''WITH before_covid AS (\n",
    "  SELECT *\n",
    "  FROM `bigquery-public-data.chicago_taxi_trips.taxi_trips`\n",
    "  WHERE trip_start_timestamp < TIMESTAMP(\"2020-01-01\")\n",
    ")\n",
    "SELECT COUNT(*)\n",
    "FROM before_covid\n",
    "WHERE (trip_seconds = 0 OR trip_seconds IS NULL)\n",
    "OR (trip_miles = 0 OR trip_miles IS NULL)'''"
   ]
  },
  {
   "cell_type": "markdown",
   "metadata": {},
   "source": [
    "result: 41879747"
   ]
  },
  {
   "cell_type": "code",
   "execution_count": 3,
   "metadata": {},
   "outputs": [
    {
     "data": {
      "text/plain": [
       "0.005815484033368205"
      ]
     },
     "execution_count": 3,
     "metadata": {},
     "output_type": "execute_result"
    }
   ],
   "source": [
    "243551 / 41879747"
   ]
  },
  {
   "cell_type": "markdown",
   "metadata": {},
   "source": [
    "**4. Percent of Observations with 0 trip_seconds and/or trip_miles**"
   ]
  },
  {
   "cell_type": "code",
   "execution_count": null,
   "metadata": {},
   "outputs": [],
   "source": [
    "'''WITH before_covid AS (\n",
    "  SELECT *\n",
    "  FROM `bigquery-public-data.chicago_taxi_trips.taxi_trips`\n",
    "  WHERE trip_start_timestamp < TIMESTAMP(\"2020-01-01\")\n",
    ")\n",
    "SELECT COUNT(*)\n",
    "FROM before_covid\n",
    "WHERE (trip_seconds = 0 OR trip_seconds IS NULL)\n",
    "OR (trip_miles = 0 OR trip_miles IS NULL)'''"
   ]
  },
  {
   "cell_type": "markdown",
   "metadata": {},
   "source": [
    "result: 41879747"
   ]
  },
  {
   "cell_type": "code",
   "execution_count": 4,
   "metadata": {},
   "outputs": [
    {
     "data": {
      "text/plain": [
       "0.21933290917192869"
      ]
     },
     "execution_count": 4,
     "metadata": {},
     "output_type": "execute_result"
    }
   ],
   "source": [
    "41879747 / 190941465"
   ]
  },
  {
   "cell_type": "markdown",
   "metadata": {},
   "source": [
    "**5. Proportion by Year**"
   ]
  },
  {
   "cell_type": "code",
   "execution_count": null,
   "metadata": {},
   "outputs": [],
   "source": [
    "'''-- GET 0/NULL time trips, by year \n",
    "-- *THIS SHOULD EQUAL TOTAL*\n",
    "WITH trips_by_year AS (\n",
    "  SELECT DISTINCT DATE_TRUNC(trip_start_timestamp, YEAR) AS year, \n",
    "  COUNT(*) AS trips_per, \n",
    "  FROM `bigquery-public-data.chicago_taxi_trips.taxi_trips`\n",
    "  WHERE ((trip_seconds = 0 OR trip_seconds IS NULL)\n",
    "  OR (trip_miles = 0 OR trip_miles IS NULL))\n",
    "  AND trip_start_timestamp < TIMESTAMP(\"2020-01-01\")\n",
    "  GROUP BY (DATE_TRUNC(trip_start_timestamp, YEAR))\n",
    "  ORDER BY year\n",
    ")\n",
    "SELECT *, trips_per/41879747 AS proportion\n",
    "FROM trips_by_year'''"
   ]
  },
  {
   "cell_type": "markdown",
   "metadata": {},
   "source": [
    "Row\t| year | trips_per | proportion      \n",
    "1 | 2013-01-01 00:00:00 UTC | 12140411 | 0.28988740070468905      \n",
    "2 | 2014-01-01 00:00:00 UTC | 8977606  | 0.21436629022615633      \n",
    "3 | 2015-01-01 00:00:00 UTC | 7178665  | 0.17141137457205746      \n",
    "4 | 2016-01-01 00:00:00 UTC | 5508148  | 0.13152295308756282     \n",
    "5 | 2017-01-01 00:00:00 UTC | 3044188  | 0.072688786778009912     \n",
    "6 | 2018-01-01 00:00:00 UTC | 2582237  | 0.061658371527411569     \n",
    "7 | 2019-01-01 00:00:00 UTC | 448492   | 0.058464823104112829      \n"
   ]
  }
 ],
 "metadata": {
  "kernelspec": {
   "display_name": "base",
   "language": "python",
   "name": "python3"
  },
  "language_info": {
   "codemirror_mode": {
    "name": "ipython",
    "version": 3
   },
   "file_extension": ".py",
   "mimetype": "text/x-python",
   "name": "python",
   "nbconvert_exporter": "python",
   "pygments_lexer": "ipython3",
   "version": "3.10.10"
  }
 },
 "nbformat": 4,
 "nbformat_minor": 2
}
